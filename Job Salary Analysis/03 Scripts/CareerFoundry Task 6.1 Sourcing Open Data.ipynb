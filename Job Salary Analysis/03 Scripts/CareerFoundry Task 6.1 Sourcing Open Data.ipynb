{
 "cells": [
  {
   "cell_type": "code",
   "execution_count": 214,
   "id": "85aafd0b-d81b-4cae-8501-7a8fc988bc34",
   "metadata": {},
   "outputs": [],
   "source": [
    "# import libraries\n",
    "import pandas as pd\n",
    "import numpy as np\n",
    "import os\n",
    "import matplotlib.pyplot as plt\n",
    "import seaborn as sns\n",
    "import scipy"
   ]
  },
  {
   "cell_type": "code",
   "execution_count": 215,
   "id": "adc23b08-40cc-4773-8940-c5922c495580",
   "metadata": {},
   "outputs": [],
   "source": [
    "path = r\"C:\\Users\\andyc\\Job Salary Analysis\""
   ]
  },
  {
   "cell_type": "code",
   "execution_count": 216,
   "id": "397cae6a-ba89-49e8-99fa-b463047cb692",
   "metadata": {},
   "outputs": [],
   "source": [
    "Salary = pd.read_csv(os.path.join(path, '02 Data', 'Original Data', 'Salary_Data_Based_country_and_race.csv'))"
   ]
  },
  {
   "cell_type": "code",
   "execution_count": 217,
   "id": "2fd74cfc-1c37-4bd4-acb3-59f563724b0d",
   "metadata": {},
   "outputs": [
    {
     "data": {
      "text/html": [
       "<div>\n",
       "<style scoped>\n",
       "    .dataframe tbody tr th:only-of-type {\n",
       "        vertical-align: middle;\n",
       "    }\n",
       "\n",
       "    .dataframe tbody tr th {\n",
       "        vertical-align: top;\n",
       "    }\n",
       "\n",
       "    .dataframe thead th {\n",
       "        text-align: right;\n",
       "    }\n",
       "</style>\n",
       "<table border=\"1\" class=\"dataframe\">\n",
       "  <thead>\n",
       "    <tr style=\"text-align: right;\">\n",
       "      <th></th>\n",
       "      <th>Unnamed: 0</th>\n",
       "      <th>Age</th>\n",
       "      <th>Gender</th>\n",
       "      <th>Education Level</th>\n",
       "      <th>Job Title</th>\n",
       "      <th>Years of Experience</th>\n",
       "      <th>Salary</th>\n",
       "      <th>Country</th>\n",
       "      <th>Race</th>\n",
       "    </tr>\n",
       "  </thead>\n",
       "  <tbody>\n",
       "    <tr>\n",
       "      <th>0</th>\n",
       "      <td>0</td>\n",
       "      <td>32.0</td>\n",
       "      <td>Male</td>\n",
       "      <td>Bachelor's</td>\n",
       "      <td>Software Engineer</td>\n",
       "      <td>5.0</td>\n",
       "      <td>90000.0</td>\n",
       "      <td>United Kingdom</td>\n",
       "      <td>White</td>\n",
       "    </tr>\n",
       "    <tr>\n",
       "      <th>1</th>\n",
       "      <td>1</td>\n",
       "      <td>28.0</td>\n",
       "      <td>Female</td>\n",
       "      <td>Master's</td>\n",
       "      <td>Data Analyst</td>\n",
       "      <td>3.0</td>\n",
       "      <td>65000.0</td>\n",
       "      <td>United States of America</td>\n",
       "      <td>Hispanic</td>\n",
       "    </tr>\n",
       "    <tr>\n",
       "      <th>2</th>\n",
       "      <td>2</td>\n",
       "      <td>45.0</td>\n",
       "      <td>Male</td>\n",
       "      <td>PhD</td>\n",
       "      <td>Senior Manager</td>\n",
       "      <td>15.0</td>\n",
       "      <td>150000.0</td>\n",
       "      <td>Canada</td>\n",
       "      <td>White</td>\n",
       "    </tr>\n",
       "    <tr>\n",
       "      <th>3</th>\n",
       "      <td>3</td>\n",
       "      <td>36.0</td>\n",
       "      <td>Female</td>\n",
       "      <td>Bachelor's</td>\n",
       "      <td>Sales Associate</td>\n",
       "      <td>7.0</td>\n",
       "      <td>60000.0</td>\n",
       "      <td>United States of America</td>\n",
       "      <td>Hispanic</td>\n",
       "    </tr>\n",
       "    <tr>\n",
       "      <th>4</th>\n",
       "      <td>4</td>\n",
       "      <td>52.0</td>\n",
       "      <td>Male</td>\n",
       "      <td>Master's</td>\n",
       "      <td>Director</td>\n",
       "      <td>20.0</td>\n",
       "      <td>200000.0</td>\n",
       "      <td>United States of America</td>\n",
       "      <td>Asian</td>\n",
       "    </tr>\n",
       "  </tbody>\n",
       "</table>\n",
       "</div>"
      ],
      "text/plain": [
       "   Unnamed: 0   Age  Gender Education Level          Job Title  \\\n",
       "0           0  32.0    Male      Bachelor's  Software Engineer   \n",
       "1           1  28.0  Female        Master's       Data Analyst   \n",
       "2           2  45.0    Male             PhD     Senior Manager   \n",
       "3           3  36.0  Female      Bachelor's    Sales Associate   \n",
       "4           4  52.0    Male        Master's           Director   \n",
       "\n",
       "   Years of Experience    Salary                   Country      Race  \n",
       "0                  5.0   90000.0            United Kingdom     White  \n",
       "1                  3.0   65000.0  United States of America  Hispanic  \n",
       "2                 15.0  150000.0                    Canada     White  \n",
       "3                  7.0   60000.0  United States of America  Hispanic  \n",
       "4                 20.0  200000.0  United States of America     Asian  "
      ]
     },
     "execution_count": 217,
     "metadata": {},
     "output_type": "execute_result"
    }
   ],
   "source": [
    "Salary.head()"
   ]
  },
  {
   "cell_type": "code",
   "execution_count": 218,
   "id": "5f7ed78e-32e7-48a2-9b9f-c240488d11a0",
   "metadata": {},
   "outputs": [
    {
     "data": {
      "text/plain": [
       "(6704, 9)"
      ]
     },
     "execution_count": 218,
     "metadata": {},
     "output_type": "execute_result"
    }
   ],
   "source": [
    "#checking the rows and columns\n",
    "Salary.shape"
   ]
  },
  {
   "cell_type": "code",
   "execution_count": 219,
   "id": "231def0e-1616-4bb0-b08e-2c430adf4d41",
   "metadata": {},
   "outputs": [
    {
     "data": {
      "text/html": [
       "<div>\n",
       "<style scoped>\n",
       "    .dataframe tbody tr th:only-of-type {\n",
       "        vertical-align: middle;\n",
       "    }\n",
       "\n",
       "    .dataframe tbody tr th {\n",
       "        vertical-align: top;\n",
       "    }\n",
       "\n",
       "    .dataframe thead th {\n",
       "        text-align: right;\n",
       "    }\n",
       "</style>\n",
       "<table border=\"1\" class=\"dataframe\">\n",
       "  <thead>\n",
       "    <tr style=\"text-align: right;\">\n",
       "      <th></th>\n",
       "      <th>Unnamed: 0</th>\n",
       "      <th>Age</th>\n",
       "      <th>Years of Experience</th>\n",
       "      <th>Salary</th>\n",
       "    </tr>\n",
       "  </thead>\n",
       "  <tbody>\n",
       "    <tr>\n",
       "      <th>count</th>\n",
       "      <td>6704.000000</td>\n",
       "      <td>6702.000000</td>\n",
       "      <td>6701.000000</td>\n",
       "      <td>6699.000000</td>\n",
       "    </tr>\n",
       "    <tr>\n",
       "      <th>mean</th>\n",
       "      <td>3351.500000</td>\n",
       "      <td>33.620859</td>\n",
       "      <td>8.094687</td>\n",
       "      <td>115326.964771</td>\n",
       "    </tr>\n",
       "    <tr>\n",
       "      <th>std</th>\n",
       "      <td>1935.422435</td>\n",
       "      <td>7.614633</td>\n",
       "      <td>6.059003</td>\n",
       "      <td>52786.183911</td>\n",
       "    </tr>\n",
       "    <tr>\n",
       "      <th>min</th>\n",
       "      <td>0.000000</td>\n",
       "      <td>21.000000</td>\n",
       "      <td>0.000000</td>\n",
       "      <td>350.000000</td>\n",
       "    </tr>\n",
       "    <tr>\n",
       "      <th>25%</th>\n",
       "      <td>1675.750000</td>\n",
       "      <td>28.000000</td>\n",
       "      <td>3.000000</td>\n",
       "      <td>70000.000000</td>\n",
       "    </tr>\n",
       "    <tr>\n",
       "      <th>50%</th>\n",
       "      <td>3351.500000</td>\n",
       "      <td>32.000000</td>\n",
       "      <td>7.000000</td>\n",
       "      <td>115000.000000</td>\n",
       "    </tr>\n",
       "    <tr>\n",
       "      <th>75%</th>\n",
       "      <td>5027.250000</td>\n",
       "      <td>38.000000</td>\n",
       "      <td>12.000000</td>\n",
       "      <td>160000.000000</td>\n",
       "    </tr>\n",
       "    <tr>\n",
       "      <th>max</th>\n",
       "      <td>6703.000000</td>\n",
       "      <td>62.000000</td>\n",
       "      <td>34.000000</td>\n",
       "      <td>250000.000000</td>\n",
       "    </tr>\n",
       "  </tbody>\n",
       "</table>\n",
       "</div>"
      ],
      "text/plain": [
       "        Unnamed: 0          Age  Years of Experience         Salary\n",
       "count  6704.000000  6702.000000          6701.000000    6699.000000\n",
       "mean   3351.500000    33.620859             8.094687  115326.964771\n",
       "std    1935.422435     7.614633             6.059003   52786.183911\n",
       "min       0.000000    21.000000             0.000000     350.000000\n",
       "25%    1675.750000    28.000000             3.000000   70000.000000\n",
       "50%    3351.500000    32.000000             7.000000  115000.000000\n",
       "75%    5027.250000    38.000000            12.000000  160000.000000\n",
       "max    6703.000000    62.000000            34.000000  250000.000000"
      ]
     },
     "execution_count": 219,
     "metadata": {},
     "output_type": "execute_result"
    }
   ],
   "source": [
    "#applying descriptive statistics\n",
    "Salary.describe()"
   ]
  },
  {
   "cell_type": "code",
   "execution_count": 220,
   "id": "6bba45e3-500f-43b1-9b02-4e66ceb35313",
   "metadata": {},
   "outputs": [
    {
     "data": {
      "text/plain": [
       "Unnamed: 0               int64\n",
       "Age                    float64\n",
       "Gender                  object\n",
       "Education Level         object\n",
       "Job Title               object\n",
       "Years of Experience    float64\n",
       "Salary                 float64\n",
       "Country                 object\n",
       "Race                    object\n",
       "dtype: object"
      ]
     },
     "execution_count": 220,
     "metadata": {},
     "output_type": "execute_result"
    }
   ],
   "source": [
    "#checking data types\n",
    "Salary.dtypes"
   ]
  },
  {
   "cell_type": "code",
   "execution_count": 221,
   "id": "5d2af35e-8482-41e3-a99f-41665671fe3e",
   "metadata": {},
   "outputs": [
    {
     "data": {
      "text/plain": [
       "Unnamed: 0             0\n",
       "Age                    2\n",
       "Gender                 2\n",
       "Education Level        3\n",
       "Job Title              2\n",
       "Years of Experience    3\n",
       "Salary                 5\n",
       "Country                0\n",
       "Race                   0\n",
       "dtype: int64"
      ]
     },
     "execution_count": 221,
     "metadata": {},
     "output_type": "execute_result"
    }
   ],
   "source": [
    "#finding missing values \n",
    "Salary.isnull().sum()"
   ]
  },
  {
   "cell_type": "code",
   "execution_count": 222,
   "id": "5a79ddca-8fc3-491d-bcde-1fa440a232d7",
   "metadata": {},
   "outputs": [],
   "source": [
    "#creates a subset that provides all the missing values in the Salary column\n",
    "salary_missing_values = Salary[Salary['Salary'].isnull() == True]"
   ]
  },
  {
   "cell_type": "code",
   "execution_count": 223,
   "id": "be09268f-fcc0-4b67-99cc-ec05031e74e4",
   "metadata": {},
   "outputs": [
    {
     "data": {
      "text/html": [
       "<div>\n",
       "<style scoped>\n",
       "    .dataframe tbody tr th:only-of-type {\n",
       "        vertical-align: middle;\n",
       "    }\n",
       "\n",
       "    .dataframe tbody tr th {\n",
       "        vertical-align: top;\n",
       "    }\n",
       "\n",
       "    .dataframe thead th {\n",
       "        text-align: right;\n",
       "    }\n",
       "</style>\n",
       "<table border=\"1\" class=\"dataframe\">\n",
       "  <thead>\n",
       "    <tr style=\"text-align: right;\">\n",
       "      <th></th>\n",
       "      <th>Unnamed: 0</th>\n",
       "      <th>Age</th>\n",
       "      <th>Gender</th>\n",
       "      <th>Education Level</th>\n",
       "      <th>Job Title</th>\n",
       "      <th>Years of Experience</th>\n",
       "      <th>Salary</th>\n",
       "      <th>Country</th>\n",
       "      <th>Race</th>\n",
       "    </tr>\n",
       "  </thead>\n",
       "  <tbody>\n",
       "    <tr>\n",
       "      <th>172</th>\n",
       "      <td>172</td>\n",
       "      <td>NaN</td>\n",
       "      <td>NaN</td>\n",
       "      <td>NaN</td>\n",
       "      <td>NaN</td>\n",
       "      <td>NaN</td>\n",
       "      <td>NaN</td>\n",
       "      <td>United Kingdom</td>\n",
       "      <td>White</td>\n",
       "    </tr>\n",
       "    <tr>\n",
       "      <th>260</th>\n",
       "      <td>260</td>\n",
       "      <td>NaN</td>\n",
       "      <td>NaN</td>\n",
       "      <td>NaN</td>\n",
       "      <td>NaN</td>\n",
       "      <td>NaN</td>\n",
       "      <td>NaN</td>\n",
       "      <td>Canada</td>\n",
       "      <td>White</td>\n",
       "    </tr>\n",
       "    <tr>\n",
       "      <th>3136</th>\n",
       "      <td>3136</td>\n",
       "      <td>31.0</td>\n",
       "      <td>Male</td>\n",
       "      <td>Master's Degree</td>\n",
       "      <td>Full Stack Engineer</td>\n",
       "      <td>8.0</td>\n",
       "      <td>NaN</td>\n",
       "      <td>Canada</td>\n",
       "      <td>White</td>\n",
       "    </tr>\n",
       "    <tr>\n",
       "      <th>5247</th>\n",
       "      <td>5247</td>\n",
       "      <td>26.0</td>\n",
       "      <td>Female</td>\n",
       "      <td>Bachelor's Degree</td>\n",
       "      <td>Social M</td>\n",
       "      <td>NaN</td>\n",
       "      <td>NaN</td>\n",
       "      <td>United States of America</td>\n",
       "      <td>White</td>\n",
       "    </tr>\n",
       "    <tr>\n",
       "      <th>6455</th>\n",
       "      <td>6455</td>\n",
       "      <td>36.0</td>\n",
       "      <td>Male</td>\n",
       "      <td>Bachelor's Degree</td>\n",
       "      <td>Sales Director</td>\n",
       "      <td>6.0</td>\n",
       "      <td>NaN</td>\n",
       "      <td>Canada</td>\n",
       "      <td>White</td>\n",
       "    </tr>\n",
       "  </tbody>\n",
       "</table>\n",
       "</div>"
      ],
      "text/plain": [
       "      Unnamed: 0   Age  Gender    Education Level            Job Title  \\\n",
       "172          172   NaN     NaN                NaN                  NaN   \n",
       "260          260   NaN     NaN                NaN                  NaN   \n",
       "3136        3136  31.0    Male    Master's Degree  Full Stack Engineer   \n",
       "5247        5247  26.0  Female  Bachelor's Degree             Social M   \n",
       "6455        6455  36.0    Male  Bachelor's Degree       Sales Director   \n",
       "\n",
       "      Years of Experience  Salary                   Country   Race  \n",
       "172                   NaN     NaN            United Kingdom  White  \n",
       "260                   NaN     NaN                    Canada  White  \n",
       "3136                  8.0     NaN                    Canada  White  \n",
       "5247                  NaN     NaN  United States of America  White  \n",
       "6455                  6.0     NaN                    Canada  White  "
      ]
     },
     "execution_count": 223,
     "metadata": {},
     "output_type": "execute_result"
    }
   ],
   "source": [
    "salary_missing_values"
   ]
  },
  {
   "cell_type": "code",
   "execution_count": 224,
   "id": "765b3557-a25d-46ec-b1fe-a11453f0ac9e",
   "metadata": {},
   "outputs": [],
   "source": [
    "#Dropping the rows with NaN values in the Age Column.\n",
    "Salary.dropna(subset=['Age'], inplace=True)"
   ]
  },
  {
   "cell_type": "code",
   "execution_count": 225,
   "id": "e3731100-0668-4813-aeb3-4e30ea3c3399",
   "metadata": {},
   "outputs": [
    {
     "data": {
      "text/html": [
       "<div>\n",
       "<style scoped>\n",
       "    .dataframe tbody tr th:only-of-type {\n",
       "        vertical-align: middle;\n",
       "    }\n",
       "\n",
       "    .dataframe tbody tr th {\n",
       "        vertical-align: top;\n",
       "    }\n",
       "\n",
       "    .dataframe thead th {\n",
       "        text-align: right;\n",
       "    }\n",
       "</style>\n",
       "<table border=\"1\" class=\"dataframe\">\n",
       "  <thead>\n",
       "    <tr style=\"text-align: right;\">\n",
       "      <th></th>\n",
       "      <th>Unnamed: 0</th>\n",
       "      <th>Age</th>\n",
       "      <th>Gender</th>\n",
       "      <th>Education Level</th>\n",
       "      <th>Job Title</th>\n",
       "      <th>Years of Experience</th>\n",
       "      <th>Salary</th>\n",
       "      <th>Country</th>\n",
       "      <th>Race</th>\n",
       "    </tr>\n",
       "  </thead>\n",
       "  <tbody>\n",
       "    <tr>\n",
       "      <th>172</th>\n",
       "      <td>172</td>\n",
       "      <td>NaN</td>\n",
       "      <td>NaN</td>\n",
       "      <td>NaN</td>\n",
       "      <td>NaN</td>\n",
       "      <td>NaN</td>\n",
       "      <td>NaN</td>\n",
       "      <td>United Kingdom</td>\n",
       "      <td>White</td>\n",
       "    </tr>\n",
       "    <tr>\n",
       "      <th>260</th>\n",
       "      <td>260</td>\n",
       "      <td>NaN</td>\n",
       "      <td>NaN</td>\n",
       "      <td>NaN</td>\n",
       "      <td>NaN</td>\n",
       "      <td>NaN</td>\n",
       "      <td>NaN</td>\n",
       "      <td>Canada</td>\n",
       "      <td>White</td>\n",
       "    </tr>\n",
       "    <tr>\n",
       "      <th>3136</th>\n",
       "      <td>3136</td>\n",
       "      <td>31.0</td>\n",
       "      <td>Male</td>\n",
       "      <td>Master's Degree</td>\n",
       "      <td>Full Stack Engineer</td>\n",
       "      <td>8.0</td>\n",
       "      <td>NaN</td>\n",
       "      <td>Canada</td>\n",
       "      <td>White</td>\n",
       "    </tr>\n",
       "    <tr>\n",
       "      <th>5247</th>\n",
       "      <td>5247</td>\n",
       "      <td>26.0</td>\n",
       "      <td>Female</td>\n",
       "      <td>Bachelor's Degree</td>\n",
       "      <td>Social M</td>\n",
       "      <td>NaN</td>\n",
       "      <td>NaN</td>\n",
       "      <td>United States of America</td>\n",
       "      <td>White</td>\n",
       "    </tr>\n",
       "    <tr>\n",
       "      <th>6455</th>\n",
       "      <td>6455</td>\n",
       "      <td>36.0</td>\n",
       "      <td>Male</td>\n",
       "      <td>Bachelor's Degree</td>\n",
       "      <td>Sales Director</td>\n",
       "      <td>6.0</td>\n",
       "      <td>NaN</td>\n",
       "      <td>Canada</td>\n",
       "      <td>White</td>\n",
       "    </tr>\n",
       "  </tbody>\n",
       "</table>\n",
       "</div>"
      ],
      "text/plain": [
       "      Unnamed: 0   Age  Gender    Education Level            Job Title  \\\n",
       "172          172   NaN     NaN                NaN                  NaN   \n",
       "260          260   NaN     NaN                NaN                  NaN   \n",
       "3136        3136  31.0    Male    Master's Degree  Full Stack Engineer   \n",
       "5247        5247  26.0  Female  Bachelor's Degree             Social M   \n",
       "6455        6455  36.0    Male  Bachelor's Degree       Sales Director   \n",
       "\n",
       "      Years of Experience  Salary                   Country   Race  \n",
       "172                   NaN     NaN            United Kingdom  White  \n",
       "260                   NaN     NaN                    Canada  White  \n",
       "3136                  8.0     NaN                    Canada  White  \n",
       "5247                  NaN     NaN  United States of America  White  \n",
       "6455                  6.0     NaN                    Canada  White  "
      ]
     },
     "execution_count": 225,
     "metadata": {},
     "output_type": "execute_result"
    }
   ],
   "source": [
    "salary_missing_values"
   ]
  },
  {
   "cell_type": "markdown",
   "id": "21f1a63d-43ac-4720-bf01-3f95f6420bd6",
   "metadata": {},
   "source": [
    "After doing some research on a Full Stack Engineer with a Master's Degree and 8 Years of Experience, I found out they make around $198,000 annually."
   ]
  },
  {
   "cell_type": "markdown",
   "id": "cea4db78-a080-4064-bac3-1252bb302b01",
   "metadata": {},
   "source": [
    "After doing some research on a Sales Director with a Bachelor's Degree and 6 Years of Experience, I found out they make around $85,000 annually."
   ]
  },
  {
   "cell_type": "code",
   "execution_count": 228,
   "id": "1fb2284b-9c2b-4da3-9be8-eea90c0c9732",
   "metadata": {},
   "outputs": [],
   "source": [
    "#Imputing the NaN value with the 198000 in row 3136 for the Salary Column.\n",
    "Salary.loc[3136, 'Salary'] = 198000"
   ]
  },
  {
   "cell_type": "code",
   "execution_count": 229,
   "id": "67e5a7b0-2939-4f70-866f-12e4deaef9cd",
   "metadata": {},
   "outputs": [
    {
     "name": "stdout",
     "output_type": "stream",
     "text": [
      "Unnamed: 0                            3136\n",
      "Age                                   31.0\n",
      "Gender                                Male\n",
      "Education Level            Master's Degree\n",
      "Job Title              Full Stack Engineer\n",
      "Years of Experience                    8.0\n",
      "Salary                            198000.0\n",
      "Country                             Canada\n",
      "Race                                 White\n",
      "Name: 3136, dtype: object\n"
     ]
    }
   ],
   "source": [
    "#checking the results on the imputation\n",
    "print(Salary.iloc[3134])"
   ]
  },
  {
   "cell_type": "code",
   "execution_count": 230,
   "id": "b611aef4-a803-407d-8c4c-4a1f2fcc7ac4",
   "metadata": {},
   "outputs": [],
   "source": [
    "#Imputing the NaN value with the 85000 in row 6455 for the Salary Column.\n",
    "Salary.loc[6455, 'Salary'] = 85000"
   ]
  },
  {
   "cell_type": "code",
   "execution_count": 231,
   "id": "9b13d145-ed28-44a7-97f0-cdd159a3f367",
   "metadata": {},
   "outputs": [
    {
     "name": "stdout",
     "output_type": "stream",
     "text": [
      "Unnamed: 0                          6455\n",
      "Age                                 36.0\n",
      "Gender                              Male\n",
      "Education Level        Bachelor's Degree\n",
      "Job Title                 Sales Director\n",
      "Years of Experience                  6.0\n",
      "Salary                           85000.0\n",
      "Country                           Canada\n",
      "Race                               White\n",
      "Name: 6455, dtype: object\n"
     ]
    }
   ],
   "source": [
    "#checking the results on the imputation\n",
    "print(Salary.iloc[6453])"
   ]
  },
  {
   "cell_type": "markdown",
   "id": "7eb14235-41c5-4429-9a1d-7efd257dd90f",
   "metadata": {},
   "source": [
    "I imputed the Years of Experience median(7) into the NaN for row 5247 and based the salary off of that."
   ]
  },
  {
   "cell_type": "markdown",
   "id": "01924925-e99a-42dd-8784-946ebcdef03e",
   "metadata": {},
   "source": [
    "After doing some research on a Social Manager with a Bachelor's Degree and 7 Years of Experience, I found out they make around $90,000 annually."
   ]
  },
  {
   "cell_type": "code",
   "execution_count": 234,
   "id": "80cf8d27-9ad6-498c-8d8b-f2d3e9561ade",
   "metadata": {},
   "outputs": [],
   "source": [
    "#Imputing the NaN value with the 7 in row 5247 for the Years of Experience Column.\n",
    "Salary.loc[5247, 'Years of Experience'] = 7"
   ]
  },
  {
   "cell_type": "code",
   "execution_count": 235,
   "id": "35609e12-3035-4f99-ae06-519f97b8295f",
   "metadata": {},
   "outputs": [],
   "source": [
    "#Imputing the NaN value with the 90000 in row 5247 for the Salary Column.\n",
    "Salary.loc[5247, 'Salary'] = 90000"
   ]
  },
  {
   "cell_type": "code",
   "execution_count": 236,
   "id": "8ff2336c-32b2-4cd9-be6a-013ae5146e4d",
   "metadata": {},
   "outputs": [
    {
     "name": "stdout",
     "output_type": "stream",
     "text": [
      "Unnamed: 0                                 5247\n",
      "Age                                        26.0\n",
      "Gender                                   Female\n",
      "Education Level               Bachelor's Degree\n",
      "Job Title                              Social M\n",
      "Years of Experience                         7.0\n",
      "Salary                                  90000.0\n",
      "Country                United States of America\n",
      "Race                                      White\n",
      "Name: 5247, dtype: object\n"
     ]
    }
   ],
   "source": [
    "#checking the results on the imputation\n",
    "print(Salary.iloc[5245])"
   ]
  },
  {
   "cell_type": "code",
   "execution_count": 237,
   "id": "96f818dc-52ee-4d6c-b9fa-d485bf4eb8f3",
   "metadata": {},
   "outputs": [
    {
     "data": {
      "text/plain": [
       "Unnamed: 0             0\n",
       "Age                    0\n",
       "Gender                 0\n",
       "Education Level        1\n",
       "Job Title              0\n",
       "Years of Experience    0\n",
       "Salary                 0\n",
       "Country                0\n",
       "Race                   0\n",
       "dtype: int64"
      ]
     },
     "execution_count": 237,
     "metadata": {},
     "output_type": "execute_result"
    }
   ],
   "source": [
    "#checking for anymore missing values \n",
    "Salary.isnull().sum()"
   ]
  },
  {
   "cell_type": "code",
   "execution_count": 238,
   "id": "343ce256-643a-4d8c-8c64-bed5b4ae7e35",
   "metadata": {},
   "outputs": [],
   "source": [
    "#creates a subset that provides all the missing values in the Education Level column\n",
    "edu_missing_values = Salary[Salary['Education Level'].isnull() == True]"
   ]
  },
  {
   "cell_type": "code",
   "execution_count": 239,
   "id": "6607d470-2798-44ed-808f-0911d49dc7b5",
   "metadata": {},
   "outputs": [
    {
     "data": {
      "text/html": [
       "<div>\n",
       "<style scoped>\n",
       "    .dataframe tbody tr th:only-of-type {\n",
       "        vertical-align: middle;\n",
       "    }\n",
       "\n",
       "    .dataframe tbody tr th {\n",
       "        vertical-align: top;\n",
       "    }\n",
       "\n",
       "    .dataframe thead th {\n",
       "        text-align: right;\n",
       "    }\n",
       "</style>\n",
       "<table border=\"1\" class=\"dataframe\">\n",
       "  <thead>\n",
       "    <tr style=\"text-align: right;\">\n",
       "      <th></th>\n",
       "      <th>Unnamed: 0</th>\n",
       "      <th>Age</th>\n",
       "      <th>Gender</th>\n",
       "      <th>Education Level</th>\n",
       "      <th>Job Title</th>\n",
       "      <th>Years of Experience</th>\n",
       "      <th>Salary</th>\n",
       "      <th>Country</th>\n",
       "      <th>Race</th>\n",
       "    </tr>\n",
       "  </thead>\n",
       "  <tbody>\n",
       "    <tr>\n",
       "      <th>2011</th>\n",
       "      <td>2011</td>\n",
       "      <td>27.0</td>\n",
       "      <td>Male</td>\n",
       "      <td>NaN</td>\n",
       "      <td>Developer</td>\n",
       "      <td>7.0</td>\n",
       "      <td>100000.0</td>\n",
       "      <td>United Kingdom</td>\n",
       "      <td>White</td>\n",
       "    </tr>\n",
       "  </tbody>\n",
       "</table>\n",
       "</div>"
      ],
      "text/plain": [
       "      Unnamed: 0   Age Gender Education Level  Job Title  Years of Experience  \\\n",
       "2011        2011  27.0   Male             NaN  Developer                  7.0   \n",
       "\n",
       "        Salary         Country   Race  \n",
       "2011  100000.0  United Kingdom  White  "
      ]
     },
     "execution_count": 239,
     "metadata": {},
     "output_type": "execute_result"
    }
   ],
   "source": [
    "edu_missing_values"
   ]
  },
  {
   "cell_type": "markdown",
   "id": "9b1a5d7f-76ec-44f9-b75a-f97b19a58de2",
   "metadata": {},
   "source": [
    "After doing some extensive research, I found that a developer with 7 years of experience needs a minimum of a Bachelor's degree to be making $100,000 annually."
   ]
  },
  {
   "cell_type": "code",
   "execution_count": 241,
   "id": "8eecdd1d-ebf5-48cd-b1c2-5a735800dcd0",
   "metadata": {},
   "outputs": [],
   "source": [
    "#Imputing the NaN value with the 'Bachelor's Degree' in the Education Level Column.\n",
    "Salary.loc[Salary['Education Level'].isna(), 'Education Level'] = \"Bachelor's Degree\""
   ]
  },
  {
   "cell_type": "code",
   "execution_count": 242,
   "id": "d45c242f-5abe-4796-8118-9246ce0a7b11",
   "metadata": {},
   "outputs": [
    {
     "name": "stdout",
     "output_type": "stream",
     "text": [
      "Unnamed: 0                          2011\n",
      "Age                                 27.0\n",
      "Gender                              Male\n",
      "Education Level        Bachelor's Degree\n",
      "Job Title                      Developer\n",
      "Years of Experience                  7.0\n",
      "Salary                          100000.0\n",
      "Country                   United Kingdom\n",
      "Race                               White\n",
      "Name: 2011, dtype: object\n"
     ]
    }
   ],
   "source": [
    "#checking the results on the imputation\n",
    "print(Salary.iloc[2009])"
   ]
  },
  {
   "cell_type": "code",
   "execution_count": 243,
   "id": "35ca59c1-567c-4918-86ee-46865afa59f2",
   "metadata": {},
   "outputs": [
    {
     "data": {
      "text/plain": [
       "Unnamed: 0             0\n",
       "Age                    0\n",
       "Gender                 0\n",
       "Education Level        0\n",
       "Job Title              0\n",
       "Years of Experience    0\n",
       "Salary                 0\n",
       "Country                0\n",
       "Race                   0\n",
       "dtype: int64"
      ]
     },
     "execution_count": 243,
     "metadata": {},
     "output_type": "execute_result"
    }
   ],
   "source": [
    "#checking for anymore missing values \n",
    "Salary.isnull().sum()"
   ]
  },
  {
   "cell_type": "code",
   "execution_count": 244,
   "id": "dc7913ca-1f30-4cc9-9331-95054ca237bc",
   "metadata": {},
   "outputs": [
    {
     "data": {
      "text/html": [
       "<div>\n",
       "<style scoped>\n",
       "    .dataframe tbody tr th:only-of-type {\n",
       "        vertical-align: middle;\n",
       "    }\n",
       "\n",
       "    .dataframe tbody tr th {\n",
       "        vertical-align: top;\n",
       "    }\n",
       "\n",
       "    .dataframe thead th {\n",
       "        text-align: right;\n",
       "    }\n",
       "</style>\n",
       "<table border=\"1\" class=\"dataframe\">\n",
       "  <thead>\n",
       "    <tr style=\"text-align: right;\">\n",
       "      <th></th>\n",
       "      <th>Unnamed: 0</th>\n",
       "      <th>Age</th>\n",
       "      <th>Years of Experience</th>\n",
       "      <th>Salary</th>\n",
       "    </tr>\n",
       "  </thead>\n",
       "  <tbody>\n",
       "    <tr>\n",
       "      <th>count</th>\n",
       "      <td>6702.000000</td>\n",
       "      <td>6702.000000</td>\n",
       "      <td>6702.000000</td>\n",
       "      <td>6702.00000</td>\n",
       "    </tr>\n",
       "    <tr>\n",
       "      <th>mean</th>\n",
       "      <td>3352.435691</td>\n",
       "      <td>33.620859</td>\n",
       "      <td>8.094524</td>\n",
       "      <td>115330.99627</td>\n",
       "    </tr>\n",
       "    <tr>\n",
       "      <th>std</th>\n",
       "      <td>1934.952777</td>\n",
       "      <td>7.614633</td>\n",
       "      <td>6.058566</td>\n",
       "      <td>52786.23587</td>\n",
       "    </tr>\n",
       "    <tr>\n",
       "      <th>min</th>\n",
       "      <td>0.000000</td>\n",
       "      <td>21.000000</td>\n",
       "      <td>0.000000</td>\n",
       "      <td>350.00000</td>\n",
       "    </tr>\n",
       "    <tr>\n",
       "      <th>25%</th>\n",
       "      <td>1677.250000</td>\n",
       "      <td>28.000000</td>\n",
       "      <td>3.000000</td>\n",
       "      <td>70000.00000</td>\n",
       "    </tr>\n",
       "    <tr>\n",
       "      <th>50%</th>\n",
       "      <td>3352.500000</td>\n",
       "      <td>32.000000</td>\n",
       "      <td>7.000000</td>\n",
       "      <td>115000.00000</td>\n",
       "    </tr>\n",
       "    <tr>\n",
       "      <th>75%</th>\n",
       "      <td>5027.750000</td>\n",
       "      <td>38.000000</td>\n",
       "      <td>12.000000</td>\n",
       "      <td>160000.00000</td>\n",
       "    </tr>\n",
       "    <tr>\n",
       "      <th>max</th>\n",
       "      <td>6703.000000</td>\n",
       "      <td>62.000000</td>\n",
       "      <td>34.000000</td>\n",
       "      <td>250000.00000</td>\n",
       "    </tr>\n",
       "  </tbody>\n",
       "</table>\n",
       "</div>"
      ],
      "text/plain": [
       "        Unnamed: 0          Age  Years of Experience        Salary\n",
       "count  6702.000000  6702.000000          6702.000000    6702.00000\n",
       "mean   3352.435691    33.620859             8.094524  115330.99627\n",
       "std    1934.952777     7.614633             6.058566   52786.23587\n",
       "min       0.000000    21.000000             0.000000     350.00000\n",
       "25%    1677.250000    28.000000             3.000000   70000.00000\n",
       "50%    3352.500000    32.000000             7.000000  115000.00000\n",
       "75%    5027.750000    38.000000            12.000000  160000.00000\n",
       "max    6703.000000    62.000000            34.000000  250000.00000"
      ]
     },
     "execution_count": 244,
     "metadata": {},
     "output_type": "execute_result"
    }
   ],
   "source": [
    "#descriptive statistics after filling in missing values\n",
    "Salary.describe()"
   ]
  },
  {
   "cell_type": "code",
   "execution_count": 245,
   "id": "6f2c18e1-620d-4e81-a29f-14904054e302",
   "metadata": {},
   "outputs": [],
   "source": [
    "#looks for full duplicates in the dataframe\n",
    "Salary_dups = Salary[Salary.duplicated()]"
   ]
  },
  {
   "cell_type": "code",
   "execution_count": 246,
   "id": "a9b8b30d-4093-4ee0-9f54-dbe9df856855",
   "metadata": {},
   "outputs": [
    {
     "data": {
      "text/html": [
       "<div>\n",
       "<style scoped>\n",
       "    .dataframe tbody tr th:only-of-type {\n",
       "        vertical-align: middle;\n",
       "    }\n",
       "\n",
       "    .dataframe tbody tr th {\n",
       "        vertical-align: top;\n",
       "    }\n",
       "\n",
       "    .dataframe thead th {\n",
       "        text-align: right;\n",
       "    }\n",
       "</style>\n",
       "<table border=\"1\" class=\"dataframe\">\n",
       "  <thead>\n",
       "    <tr style=\"text-align: right;\">\n",
       "      <th></th>\n",
       "      <th>Unnamed: 0</th>\n",
       "      <th>Age</th>\n",
       "      <th>Gender</th>\n",
       "      <th>Education Level</th>\n",
       "      <th>Job Title</th>\n",
       "      <th>Years of Experience</th>\n",
       "      <th>Salary</th>\n",
       "      <th>Country</th>\n",
       "      <th>Race</th>\n",
       "    </tr>\n",
       "  </thead>\n",
       "  <tbody>\n",
       "  </tbody>\n",
       "</table>\n",
       "</div>"
      ],
      "text/plain": [
       "Empty DataFrame\n",
       "Columns: [Unnamed: 0, Age, Gender, Education Level, Job Title, Years of Experience, Salary, Country, Race]\n",
       "Index: []"
      ]
     },
     "execution_count": 246,
     "metadata": {},
     "output_type": "execute_result"
    }
   ],
   "source": [
    "Salary_dups"
   ]
  },
  {
   "cell_type": "markdown",
   "id": "6699081a-f10d-46e4-9542-029eae5bc384",
   "metadata": {},
   "source": [
    "There are no duplicates in our dataset."
   ]
  },
  {
   "cell_type": "code",
   "execution_count": 248,
   "id": "1e40212b-a737-44d3-8ec8-c78e434a59c2",
   "metadata": {},
   "outputs": [],
   "source": [
    "#renaming the Unnamed: 0 column to the appropriate name, ID\n",
    "Salary.rename(columns = {'Unnamed: 0' : 'ID'}, inplace = True)"
   ]
  },
  {
   "cell_type": "code",
   "execution_count": 249,
   "id": "aa5f89c1-70ce-4de9-a608-9694ff19cecb",
   "metadata": {},
   "outputs": [
    {
     "data": {
      "text/html": [
       "<div>\n",
       "<style scoped>\n",
       "    .dataframe tbody tr th:only-of-type {\n",
       "        vertical-align: middle;\n",
       "    }\n",
       "\n",
       "    .dataframe tbody tr th {\n",
       "        vertical-align: top;\n",
       "    }\n",
       "\n",
       "    .dataframe thead th {\n",
       "        text-align: right;\n",
       "    }\n",
       "</style>\n",
       "<table border=\"1\" class=\"dataframe\">\n",
       "  <thead>\n",
       "    <tr style=\"text-align: right;\">\n",
       "      <th></th>\n",
       "      <th>ID</th>\n",
       "      <th>Age</th>\n",
       "      <th>Gender</th>\n",
       "      <th>Education Level</th>\n",
       "      <th>Job Title</th>\n",
       "      <th>Years of Experience</th>\n",
       "      <th>Salary</th>\n",
       "      <th>Country</th>\n",
       "      <th>Race</th>\n",
       "    </tr>\n",
       "  </thead>\n",
       "  <tbody>\n",
       "    <tr>\n",
       "      <th>0</th>\n",
       "      <td>0</td>\n",
       "      <td>32.0</td>\n",
       "      <td>Male</td>\n",
       "      <td>Bachelor's</td>\n",
       "      <td>Software Engineer</td>\n",
       "      <td>5.0</td>\n",
       "      <td>90000.0</td>\n",
       "      <td>United Kingdom</td>\n",
       "      <td>White</td>\n",
       "    </tr>\n",
       "    <tr>\n",
       "      <th>1</th>\n",
       "      <td>1</td>\n",
       "      <td>28.0</td>\n",
       "      <td>Female</td>\n",
       "      <td>Master's</td>\n",
       "      <td>Data Analyst</td>\n",
       "      <td>3.0</td>\n",
       "      <td>65000.0</td>\n",
       "      <td>United States of America</td>\n",
       "      <td>Hispanic</td>\n",
       "    </tr>\n",
       "    <tr>\n",
       "      <th>2</th>\n",
       "      <td>2</td>\n",
       "      <td>45.0</td>\n",
       "      <td>Male</td>\n",
       "      <td>PhD</td>\n",
       "      <td>Senior Manager</td>\n",
       "      <td>15.0</td>\n",
       "      <td>150000.0</td>\n",
       "      <td>Canada</td>\n",
       "      <td>White</td>\n",
       "    </tr>\n",
       "    <tr>\n",
       "      <th>3</th>\n",
       "      <td>3</td>\n",
       "      <td>36.0</td>\n",
       "      <td>Female</td>\n",
       "      <td>Bachelor's</td>\n",
       "      <td>Sales Associate</td>\n",
       "      <td>7.0</td>\n",
       "      <td>60000.0</td>\n",
       "      <td>United States of America</td>\n",
       "      <td>Hispanic</td>\n",
       "    </tr>\n",
       "    <tr>\n",
       "      <th>4</th>\n",
       "      <td>4</td>\n",
       "      <td>52.0</td>\n",
       "      <td>Male</td>\n",
       "      <td>Master's</td>\n",
       "      <td>Director</td>\n",
       "      <td>20.0</td>\n",
       "      <td>200000.0</td>\n",
       "      <td>United States of America</td>\n",
       "      <td>Asian</td>\n",
       "    </tr>\n",
       "  </tbody>\n",
       "</table>\n",
       "</div>"
      ],
      "text/plain": [
       "   ID   Age  Gender Education Level          Job Title  Years of Experience  \\\n",
       "0   0  32.0    Male      Bachelor's  Software Engineer                  5.0   \n",
       "1   1  28.0  Female        Master's       Data Analyst                  3.0   \n",
       "2   2  45.0    Male             PhD     Senior Manager                 15.0   \n",
       "3   3  36.0  Female      Bachelor's    Sales Associate                  7.0   \n",
       "4   4  52.0    Male        Master's           Director                 20.0   \n",
       "\n",
       "     Salary                   Country      Race  \n",
       "0   90000.0            United Kingdom     White  \n",
       "1   65000.0  United States of America  Hispanic  \n",
       "2  150000.0                    Canada     White  \n",
       "3   60000.0  United States of America  Hispanic  \n",
       "4  200000.0  United States of America     Asian  "
      ]
     },
     "execution_count": 249,
     "metadata": {},
     "output_type": "execute_result"
    }
   ],
   "source": [
    "Salary.head()"
   ]
  },
  {
   "cell_type": "code",
   "execution_count": 250,
   "id": "e1c5417f-6a1a-49f9-aa1e-cadc9b5de898",
   "metadata": {},
   "outputs": [
    {
     "data": {
      "text/html": [
       "<div>\n",
       "<style scoped>\n",
       "    .dataframe tbody tr th:only-of-type {\n",
       "        vertical-align: middle;\n",
       "    }\n",
       "\n",
       "    .dataframe tbody tr th {\n",
       "        vertical-align: top;\n",
       "    }\n",
       "\n",
       "    .dataframe thead th {\n",
       "        text-align: right;\n",
       "    }\n",
       "</style>\n",
       "<table border=\"1\" class=\"dataframe\">\n",
       "  <thead>\n",
       "    <tr style=\"text-align: right;\">\n",
       "      <th></th>\n",
       "      <th>ID</th>\n",
       "      <th>Age</th>\n",
       "      <th>Years of Experience</th>\n",
       "      <th>Salary</th>\n",
       "    </tr>\n",
       "  </thead>\n",
       "  <tbody>\n",
       "    <tr>\n",
       "      <th>count</th>\n",
       "      <td>6702.000000</td>\n",
       "      <td>6702.000000</td>\n",
       "      <td>6702.000000</td>\n",
       "      <td>6702.00000</td>\n",
       "    </tr>\n",
       "    <tr>\n",
       "      <th>mean</th>\n",
       "      <td>3352.435691</td>\n",
       "      <td>33.620859</td>\n",
       "      <td>8.094524</td>\n",
       "      <td>115330.99627</td>\n",
       "    </tr>\n",
       "    <tr>\n",
       "      <th>std</th>\n",
       "      <td>1934.952777</td>\n",
       "      <td>7.614633</td>\n",
       "      <td>6.058566</td>\n",
       "      <td>52786.23587</td>\n",
       "    </tr>\n",
       "    <tr>\n",
       "      <th>min</th>\n",
       "      <td>0.000000</td>\n",
       "      <td>21.000000</td>\n",
       "      <td>0.000000</td>\n",
       "      <td>350.00000</td>\n",
       "    </tr>\n",
       "    <tr>\n",
       "      <th>25%</th>\n",
       "      <td>1677.250000</td>\n",
       "      <td>28.000000</td>\n",
       "      <td>3.000000</td>\n",
       "      <td>70000.00000</td>\n",
       "    </tr>\n",
       "    <tr>\n",
       "      <th>50%</th>\n",
       "      <td>3352.500000</td>\n",
       "      <td>32.000000</td>\n",
       "      <td>7.000000</td>\n",
       "      <td>115000.00000</td>\n",
       "    </tr>\n",
       "    <tr>\n",
       "      <th>75%</th>\n",
       "      <td>5027.750000</td>\n",
       "      <td>38.000000</td>\n",
       "      <td>12.000000</td>\n",
       "      <td>160000.00000</td>\n",
       "    </tr>\n",
       "    <tr>\n",
       "      <th>max</th>\n",
       "      <td>6703.000000</td>\n",
       "      <td>62.000000</td>\n",
       "      <td>34.000000</td>\n",
       "      <td>250000.00000</td>\n",
       "    </tr>\n",
       "  </tbody>\n",
       "</table>\n",
       "</div>"
      ],
      "text/plain": [
       "                ID          Age  Years of Experience        Salary\n",
       "count  6702.000000  6702.000000          6702.000000    6702.00000\n",
       "mean   3352.435691    33.620859             8.094524  115330.99627\n",
       "std    1934.952777     7.614633             6.058566   52786.23587\n",
       "min       0.000000    21.000000             0.000000     350.00000\n",
       "25%    1677.250000    28.000000             3.000000   70000.00000\n",
       "50%    3352.500000    32.000000             7.000000  115000.00000\n",
       "75%    5027.750000    38.000000            12.000000  160000.00000\n",
       "max    6703.000000    62.000000            34.000000  250000.00000"
      ]
     },
     "execution_count": 250,
     "metadata": {},
     "output_type": "execute_result"
    }
   ],
   "source": [
    "#descriptive statistics\n",
    "Salary.describe()"
   ]
  },
  {
   "cell_type": "code",
   "execution_count": 251,
   "id": "4d931a3e-60ed-47f8-87a1-1b17c0303813",
   "metadata": {},
   "outputs": [],
   "source": [
    "#exporting data, salary to csv file.\n",
    "Salary.to_csv(os.path.join(path, '02 Data','Prepared Data', 'salary.csv'))"
   ]
  }
 ],
 "metadata": {
  "kernelspec": {
   "display_name": "Python 3 (ipykernel)",
   "language": "python",
   "name": "python3"
  },
  "language_info": {
   "codemirror_mode": {
    "name": "ipython",
    "version": 3
   },
   "file_extension": ".py",
   "mimetype": "text/x-python",
   "name": "python",
   "nbconvert_exporter": "python",
   "pygments_lexer": "ipython3",
   "version": "3.12.4"
  }
 },
 "nbformat": 4,
 "nbformat_minor": 5
}
